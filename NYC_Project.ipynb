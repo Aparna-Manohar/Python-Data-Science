{
 "cells": [
  {
   "cell_type": "markdown",
   "metadata": {
    "deletable": true,
    "editable": true
   },
   "source": [
    "# NYC YELLOW TAXI AND LIMOUSINE DATA ANALYSIS"
   ]
  },
  {
   "cell_type": "code",
   "execution_count": 1,
   "metadata": {
    "collapsed": false,
    "deletable": true,
    "editable": true
   },
   "outputs": [],
   "source": [
    "try:\n",
    "    print(\"Spark is already running: \", spark, \".\\nIf you have problems, you need to restart the kernel\")\n",
    "except:\n",
    "    import findspark\n",
    "    findspark.init()\n",
    "    from pyspark.sql import SparkSession\n",
    "    spark = SparkSession.builder.getOrCreate()"
   ]
  },
  {
   "cell_type": "code",
   "execution_count": 2,
   "metadata": {
    "collapsed": false,
    "deletable": true,
    "editable": true
   },
   "outputs": [],
   "source": [
    "from pyspark.sql import functions as fn\n",
    "# Functionality for computing features\n",
    "from pyspark.ml import feature\n",
    "# Functionality for regression\n",
    "from pyspark.ml import regression\n",
    "# Funcionality for classification\n",
    "from pyspark.ml import classification\n",
    "# Object for creating sequences of transformations\n",
    "from pyspark.ml import Pipeline\n",
    "from pyspark.ml.regression import RandomForestRegressor\n",
    "from pyspark.ml.feature import VectorIndexer\n",
    "#from pyspark.ml.evaluation import RegressionEvaluator"
   ]
  },
  {
   "cell_type": "code",
   "execution_count": null,
   "metadata": {
    "collapsed": false,
    "deletable": true,
    "editable": true
   },
   "outputs": [],
   "source": [
    "from dateutil import parser\n",
    "import pandas as pd\n",
    "import numpy as np "
   ]
  },
  {
   "cell_type": "code",
   "execution_count": 4,
   "metadata": {
    "collapsed": false,
    "deletable": true,
    "editable": true,
    "scrolled": true
   },
   "outputs": [
    {
     "name": "stdout",
     "output_type": "stream",
     "text": [
      "/bin/sh: wget: command not found\r\n"
     ]
    }
   ],
   "source": [
    "# Reading the file directly into the server\n",
    "!wget https://s3.amazonaws.com/nyc-tlc/trip+data/yellow_tripdata_2016-01.csv"
   ]
  },
  {
   "cell_type": "code",
   "execution_count": 88,
   "metadata": {
    "collapsed": false,
    "deletable": true,
    "editable": true,
    "scrolled": true
   },
   "outputs": [],
   "source": [
    "# Reading the dataframe from the server using pandas\n",
    "taxi_df = pd.read_csv(\"yellow_tripdata_2016-01.csv\")"
   ]
  },
  {
   "cell_type": "code",
   "execution_count": 89,
   "metadata": {
    "collapsed": false,
    "deletable": true,
    "editable": true
   },
   "outputs": [
    {
     "data": {
      "text/plain": [
       "Index(['VendorID', 'tpep_pickup_datetime', 'tpep_dropoff_datetime',\n",
       "       'passenger_count', 'trip_distance', 'pickup_longitude',\n",
       "       'pickup_latitude', 'RatecodeID', 'store_and_fwd_flag',\n",
       "       'dropoff_longitude', 'dropoff_latitude', 'payment_type', 'fare_amount',\n",
       "       'extra', 'mta_tax', 'tip_amount', 'tolls_amount',\n",
       "       'improvement_surcharge', 'total_amount'],\n",
       "      dtype='object')"
      ]
     },
     "execution_count": 89,
     "metadata": {},
     "output_type": "execute_result"
    }
   ],
   "source": [
    "taxi_df.columns"
   ]
  },
  {
   "cell_type": "code",
   "execution_count": 90,
   "metadata": {
    "collapsed": true,
    "deletable": true,
    "editable": true
   },
   "outputs": [],
   "source": [
    "taxi_df=taxi_df.drop(['VendorID','RatecodeID','store_and_fwd_flag','passenger_count','extra', 'mta_tax',\n",
    "       'tip_amount', 'tolls_amount', 'improvement_surcharge',\n",
    "       'total_amount', 'payment_type'],axis=1)"
   ]
  },
  {
   "cell_type": "code",
   "execution_count": 91,
   "metadata": {
    "collapsed": false,
    "deletable": true,
    "editable": true
   },
   "outputs": [
    {
     "data": {
      "text/html": [
       "<div>\n",
       "<table border=\"1\" class=\"dataframe\">\n",
       "  <thead>\n",
       "    <tr style=\"text-align: right;\">\n",
       "      <th></th>\n",
       "      <th>tpep_pickup_datetime</th>\n",
       "      <th>tpep_dropoff_datetime</th>\n",
       "      <th>trip_distance</th>\n",
       "      <th>pickup_longitude</th>\n",
       "      <th>pickup_latitude</th>\n",
       "      <th>dropoff_longitude</th>\n",
       "      <th>dropoff_latitude</th>\n",
       "      <th>fare_amount</th>\n",
       "    </tr>\n",
       "  </thead>\n",
       "  <tbody>\n",
       "    <tr>\n",
       "      <th>0</th>\n",
       "      <td>2016-01-01 00:00:00</td>\n",
       "      <td>2016-01-01 00:00:00</td>\n",
       "      <td>1.10</td>\n",
       "      <td>-73.990372</td>\n",
       "      <td>40.734695</td>\n",
       "      <td>-73.981842</td>\n",
       "      <td>40.732407</td>\n",
       "      <td>7.5</td>\n",
       "    </tr>\n",
       "    <tr>\n",
       "      <th>1</th>\n",
       "      <td>2016-01-01 00:00:00</td>\n",
       "      <td>2016-01-01 00:00:00</td>\n",
       "      <td>4.90</td>\n",
       "      <td>-73.980782</td>\n",
       "      <td>40.729912</td>\n",
       "      <td>-73.944473</td>\n",
       "      <td>40.716679</td>\n",
       "      <td>18.0</td>\n",
       "    </tr>\n",
       "    <tr>\n",
       "      <th>2</th>\n",
       "      <td>2016-01-01 00:00:00</td>\n",
       "      <td>2016-01-01 00:00:00</td>\n",
       "      <td>10.54</td>\n",
       "      <td>-73.984550</td>\n",
       "      <td>40.679565</td>\n",
       "      <td>-73.950272</td>\n",
       "      <td>40.788925</td>\n",
       "      <td>33.0</td>\n",
       "    </tr>\n",
       "    <tr>\n",
       "      <th>3</th>\n",
       "      <td>2016-01-01 00:00:00</td>\n",
       "      <td>2016-01-01 00:00:00</td>\n",
       "      <td>4.75</td>\n",
       "      <td>-73.993469</td>\n",
       "      <td>40.718990</td>\n",
       "      <td>-73.962242</td>\n",
       "      <td>40.657333</td>\n",
       "      <td>16.5</td>\n",
       "    </tr>\n",
       "    <tr>\n",
       "      <th>4</th>\n",
       "      <td>2016-01-01 00:00:00</td>\n",
       "      <td>2016-01-01 00:00:00</td>\n",
       "      <td>1.76</td>\n",
       "      <td>-73.960625</td>\n",
       "      <td>40.781330</td>\n",
       "      <td>-73.977264</td>\n",
       "      <td>40.758514</td>\n",
       "      <td>8.0</td>\n",
       "    </tr>\n",
       "  </tbody>\n",
       "</table>\n",
       "</div>"
      ],
      "text/plain": [
       "  tpep_pickup_datetime tpep_dropoff_datetime  trip_distance  pickup_longitude  \\\n",
       "0  2016-01-01 00:00:00   2016-01-01 00:00:00           1.10        -73.990372   \n",
       "1  2016-01-01 00:00:00   2016-01-01 00:00:00           4.90        -73.980782   \n",
       "2  2016-01-01 00:00:00   2016-01-01 00:00:00          10.54        -73.984550   \n",
       "3  2016-01-01 00:00:00   2016-01-01 00:00:00           4.75        -73.993469   \n",
       "4  2016-01-01 00:00:00   2016-01-01 00:00:00           1.76        -73.960625   \n",
       "\n",
       "   pickup_latitude  dropoff_longitude  dropoff_latitude  fare_amount  \n",
       "0        40.734695         -73.981842         40.732407          7.5  \n",
       "1        40.729912         -73.944473         40.716679         18.0  \n",
       "2        40.679565         -73.950272         40.788925         33.0  \n",
       "3        40.718990         -73.962242         40.657333         16.5  \n",
       "4        40.781330         -73.977264         40.758514          8.0  "
      ]
     },
     "execution_count": 91,
     "metadata": {},
     "output_type": "execute_result"
    }
   ],
   "source": [
    "taxi_df.head()"
   ]
  },
  {
   "cell_type": "code",
   "execution_count": 92,
   "metadata": {
    "collapsed": false,
    "deletable": true,
    "editable": true,
    "scrolled": true
   },
   "outputs": [],
   "source": [
    "taxi_df['Ptime'] = pd.to_datetime(taxi_df['tpep_pickup_datetime'])"
   ]
  },
  {
   "cell_type": "code",
   "execution_count": 93,
   "metadata": {
    "collapsed": false,
    "deletable": true,
    "editable": true
   },
   "outputs": [],
   "source": [
    "taxi_df['Dtime'] = pd.to_datetime(taxi_df['tpep_dropoff_datetime'])"
   ]
  },
  {
   "cell_type": "code",
   "execution_count": 94,
   "metadata": {
    "collapsed": false,
    "deletable": true,
    "editable": true
   },
   "outputs": [],
   "source": [
    "taxi_df['TripDuration']=(taxi_df['Dtime']-taxi_df['Ptime'])"
   ]
  },
  {
   "cell_type": "code",
   "execution_count": 95,
   "metadata": {
    "collapsed": false,
    "deletable": true,
    "editable": true
   },
   "outputs": [],
   "source": [
    "taxi_df['TripDuration']=round((taxi_df[:len(taxi_df)]['TripDuration'] / np.timedelta64(1, 'm')))"
   ]
  },
  {
   "cell_type": "code",
   "execution_count": null,
   "metadata": {
    "collapsed": true,
    "deletable": true,
    "editable": true
   },
   "outputs": [],
   "source": [
    "taxi_df['Phour']=taxi_df.Ptime.apply(lambda x: x.hour)"
   ]
  },
  {
   "cell_type": "code",
   "execution_count": 97,
   "metadata": {
    "collapsed": false,
    "deletable": true,
    "editable": true
   },
   "outputs": [],
   "source": [
    "taxi_df['Day_of_WeekP'] = taxi_df['Ptime'].dt.weekday_name"
   ]
  },
  {
   "cell_type": "code",
   "execution_count": 98,
   "metadata": {
    "collapsed": false,
    "deletable": true,
    "editable": true,
    "scrolled": true
   },
   "outputs": [
    {
     "data": {
      "text/html": [
       "<div>\n",
       "<table border=\"1\" class=\"dataframe\">\n",
       "  <thead>\n",
       "    <tr style=\"text-align: right;\">\n",
       "      <th></th>\n",
       "      <th>tpep_pickup_datetime</th>\n",
       "      <th>tpep_dropoff_datetime</th>\n",
       "      <th>trip_distance</th>\n",
       "      <th>pickup_longitude</th>\n",
       "      <th>pickup_latitude</th>\n",
       "      <th>dropoff_longitude</th>\n",
       "      <th>dropoff_latitude</th>\n",
       "      <th>fare_amount</th>\n",
       "      <th>Ptime</th>\n",
       "      <th>Dtime</th>\n",
       "      <th>TripDuration</th>\n",
       "      <th>Phour</th>\n",
       "      <th>Day_of_WeekP</th>\n",
       "    </tr>\n",
       "  </thead>\n",
       "  <tbody>\n",
       "    <tr>\n",
       "      <th>0</th>\n",
       "      <td>2016-01-01 00:00:00</td>\n",
       "      <td>2016-01-01 00:00:00</td>\n",
       "      <td>1.10</td>\n",
       "      <td>-73.990372</td>\n",
       "      <td>40.734695</td>\n",
       "      <td>-73.981842</td>\n",
       "      <td>40.732407</td>\n",
       "      <td>7.5</td>\n",
       "      <td>2016-01-01</td>\n",
       "      <td>2016-01-01</td>\n",
       "      <td>0.0</td>\n",
       "      <td>0</td>\n",
       "      <td>Friday</td>\n",
       "    </tr>\n",
       "    <tr>\n",
       "      <th>1</th>\n",
       "      <td>2016-01-01 00:00:00</td>\n",
       "      <td>2016-01-01 00:00:00</td>\n",
       "      <td>4.90</td>\n",
       "      <td>-73.980782</td>\n",
       "      <td>40.729912</td>\n",
       "      <td>-73.944473</td>\n",
       "      <td>40.716679</td>\n",
       "      <td>18.0</td>\n",
       "      <td>2016-01-01</td>\n",
       "      <td>2016-01-01</td>\n",
       "      <td>0.0</td>\n",
       "      <td>0</td>\n",
       "      <td>Friday</td>\n",
       "    </tr>\n",
       "    <tr>\n",
       "      <th>2</th>\n",
       "      <td>2016-01-01 00:00:00</td>\n",
       "      <td>2016-01-01 00:00:00</td>\n",
       "      <td>10.54</td>\n",
       "      <td>-73.984550</td>\n",
       "      <td>40.679565</td>\n",
       "      <td>-73.950272</td>\n",
       "      <td>40.788925</td>\n",
       "      <td>33.0</td>\n",
       "      <td>2016-01-01</td>\n",
       "      <td>2016-01-01</td>\n",
       "      <td>0.0</td>\n",
       "      <td>0</td>\n",
       "      <td>Friday</td>\n",
       "    </tr>\n",
       "    <tr>\n",
       "      <th>3</th>\n",
       "      <td>2016-01-01 00:00:00</td>\n",
       "      <td>2016-01-01 00:00:00</td>\n",
       "      <td>4.75</td>\n",
       "      <td>-73.993469</td>\n",
       "      <td>40.718990</td>\n",
       "      <td>-73.962242</td>\n",
       "      <td>40.657333</td>\n",
       "      <td>16.5</td>\n",
       "      <td>2016-01-01</td>\n",
       "      <td>2016-01-01</td>\n",
       "      <td>0.0</td>\n",
       "      <td>0</td>\n",
       "      <td>Friday</td>\n",
       "    </tr>\n",
       "    <tr>\n",
       "      <th>4</th>\n",
       "      <td>2016-01-01 00:00:00</td>\n",
       "      <td>2016-01-01 00:00:00</td>\n",
       "      <td>1.76</td>\n",
       "      <td>-73.960625</td>\n",
       "      <td>40.781330</td>\n",
       "      <td>-73.977264</td>\n",
       "      <td>40.758514</td>\n",
       "      <td>8.0</td>\n",
       "      <td>2016-01-01</td>\n",
       "      <td>2016-01-01</td>\n",
       "      <td>0.0</td>\n",
       "      <td>0</td>\n",
       "      <td>Friday</td>\n",
       "    </tr>\n",
       "  </tbody>\n",
       "</table>\n",
       "</div>"
      ],
      "text/plain": [
       "  tpep_pickup_datetime tpep_dropoff_datetime  trip_distance  pickup_longitude  \\\n",
       "0  2016-01-01 00:00:00   2016-01-01 00:00:00           1.10        -73.990372   \n",
       "1  2016-01-01 00:00:00   2016-01-01 00:00:00           4.90        -73.980782   \n",
       "2  2016-01-01 00:00:00   2016-01-01 00:00:00          10.54        -73.984550   \n",
       "3  2016-01-01 00:00:00   2016-01-01 00:00:00           4.75        -73.993469   \n",
       "4  2016-01-01 00:00:00   2016-01-01 00:00:00           1.76        -73.960625   \n",
       "\n",
       "   pickup_latitude  dropoff_longitude  dropoff_latitude  fare_amount  \\\n",
       "0        40.734695         -73.981842         40.732407          7.5   \n",
       "1        40.729912         -73.944473         40.716679         18.0   \n",
       "2        40.679565         -73.950272         40.788925         33.0   \n",
       "3        40.718990         -73.962242         40.657333         16.5   \n",
       "4        40.781330         -73.977264         40.758514          8.0   \n",
       "\n",
       "       Ptime      Dtime  TripDuration  Phour Day_of_WeekP  \n",
       "0 2016-01-01 2016-01-01           0.0      0       Friday  \n",
       "1 2016-01-01 2016-01-01           0.0      0       Friday  \n",
       "2 2016-01-01 2016-01-01           0.0      0       Friday  \n",
       "3 2016-01-01 2016-01-01           0.0      0       Friday  \n",
       "4 2016-01-01 2016-01-01           0.0      0       Friday  "
      ]
     },
     "execution_count": 98,
     "metadata": {},
     "output_type": "execute_result"
    }
   ],
   "source": [
    "taxi_df.head(5)"
   ]
  },
  {
   "cell_type": "code",
   "execution_count": 101,
   "metadata": {
    "collapsed": false,
    "deletable": true,
    "editable": true
   },
   "outputs": [],
   "source": [
    "taxi_fnl=taxi_df.drop(['tpep_pickup_datetime', 'tpep_dropoff_datetime','Ptime','Dtime'],axis=1)"
   ]
  },
  {
   "cell_type": "code",
   "execution_count": 102,
   "metadata": {
    "collapsed": false,
    "deletable": true,
    "editable": true
   },
   "outputs": [
    {
     "data": {
      "text/html": [
       "<div>\n",
       "<table border=\"1\" class=\"dataframe\">\n",
       "  <thead>\n",
       "    <tr style=\"text-align: right;\">\n",
       "      <th></th>\n",
       "      <th>trip_distance</th>\n",
       "      <th>pickup_longitude</th>\n",
       "      <th>pickup_latitude</th>\n",
       "      <th>dropoff_longitude</th>\n",
       "      <th>dropoff_latitude</th>\n",
       "      <th>fare_amount</th>\n",
       "      <th>TripDuration</th>\n",
       "      <th>Phour</th>\n",
       "      <th>Day_of_WeekP</th>\n",
       "    </tr>\n",
       "  </thead>\n",
       "  <tbody>\n",
       "    <tr>\n",
       "      <th>0</th>\n",
       "      <td>1.10</td>\n",
       "      <td>-73.990372</td>\n",
       "      <td>40.734695</td>\n",
       "      <td>-73.981842</td>\n",
       "      <td>40.732407</td>\n",
       "      <td>7.5</td>\n",
       "      <td>0.0</td>\n",
       "      <td>0</td>\n",
       "      <td>Friday</td>\n",
       "    </tr>\n",
       "    <tr>\n",
       "      <th>1</th>\n",
       "      <td>4.90</td>\n",
       "      <td>-73.980782</td>\n",
       "      <td>40.729912</td>\n",
       "      <td>-73.944473</td>\n",
       "      <td>40.716679</td>\n",
       "      <td>18.0</td>\n",
       "      <td>0.0</td>\n",
       "      <td>0</td>\n",
       "      <td>Friday</td>\n",
       "    </tr>\n",
       "    <tr>\n",
       "      <th>2</th>\n",
       "      <td>10.54</td>\n",
       "      <td>-73.984550</td>\n",
       "      <td>40.679565</td>\n",
       "      <td>-73.950272</td>\n",
       "      <td>40.788925</td>\n",
       "      <td>33.0</td>\n",
       "      <td>0.0</td>\n",
       "      <td>0</td>\n",
       "      <td>Friday</td>\n",
       "    </tr>\n",
       "    <tr>\n",
       "      <th>3</th>\n",
       "      <td>4.75</td>\n",
       "      <td>-73.993469</td>\n",
       "      <td>40.718990</td>\n",
       "      <td>-73.962242</td>\n",
       "      <td>40.657333</td>\n",
       "      <td>16.5</td>\n",
       "      <td>0.0</td>\n",
       "      <td>0</td>\n",
       "      <td>Friday</td>\n",
       "    </tr>\n",
       "    <tr>\n",
       "      <th>4</th>\n",
       "      <td>1.76</td>\n",
       "      <td>-73.960625</td>\n",
       "      <td>40.781330</td>\n",
       "      <td>-73.977264</td>\n",
       "      <td>40.758514</td>\n",
       "      <td>8.0</td>\n",
       "      <td>0.0</td>\n",
       "      <td>0</td>\n",
       "      <td>Friday</td>\n",
       "    </tr>\n",
       "  </tbody>\n",
       "</table>\n",
       "</div>"
      ],
      "text/plain": [
       "   trip_distance  pickup_longitude  pickup_latitude  dropoff_longitude  \\\n",
       "0           1.10        -73.990372        40.734695         -73.981842   \n",
       "1           4.90        -73.980782        40.729912         -73.944473   \n",
       "2          10.54        -73.984550        40.679565         -73.950272   \n",
       "3           4.75        -73.993469        40.718990         -73.962242   \n",
       "4           1.76        -73.960625        40.781330         -73.977264   \n",
       "\n",
       "   dropoff_latitude  fare_amount  TripDuration  Phour Day_of_WeekP  \n",
       "0         40.732407          7.5           0.0      0       Friday  \n",
       "1         40.716679         18.0           0.0      0       Friday  \n",
       "2         40.788925         33.0           0.0      0       Friday  \n",
       "3         40.657333         16.5           0.0      0       Friday  \n",
       "4         40.758514          8.0           0.0      0       Friday  "
      ]
     },
     "execution_count": 102,
     "metadata": {},
     "output_type": "execute_result"
    }
   ],
   "source": [
    "taxi_fnl.head(5)"
   ]
  },
  {
   "cell_type": "markdown",
   "metadata": {
    "deletable": true,
    "editable": true
   },
   "source": [
    "# Finding correlation"
   ]
  },
  {
   "cell_type": "code",
   "execution_count": 103,
   "metadata": {
    "collapsed": false,
    "deletable": true,
    "editable": true
   },
   "outputs": [
    {
     "data": {
      "text/html": [
       "<div>\n",
       "<table border=\"1\" class=\"dataframe\">\n",
       "  <thead>\n",
       "    <tr style=\"text-align: right;\">\n",
       "      <th></th>\n",
       "      <th>trip_distance</th>\n",
       "      <th>pickup_longitude</th>\n",
       "      <th>pickup_latitude</th>\n",
       "      <th>dropoff_longitude</th>\n",
       "      <th>dropoff_latitude</th>\n",
       "      <th>fare_amount</th>\n",
       "      <th>TripDuration</th>\n",
       "      <th>Phour</th>\n",
       "    </tr>\n",
       "  </thead>\n",
       "  <tbody>\n",
       "    <tr>\n",
       "      <th>count</th>\n",
       "      <td>1.090686e+07</td>\n",
       "      <td>1.090686e+07</td>\n",
       "      <td>1.090686e+07</td>\n",
       "      <td>1.090686e+07</td>\n",
       "      <td>1.090686e+07</td>\n",
       "      <td>1.090686e+07</td>\n",
       "      <td>1.090686e+07</td>\n",
       "      <td>1.090686e+07</td>\n",
       "    </tr>\n",
       "    <tr>\n",
       "      <th>mean</th>\n",
       "      <td>4.648197e+00</td>\n",
       "      <td>-7.281869e+01</td>\n",
       "      <td>4.011494e+01</td>\n",
       "      <td>-7.288659e+01</td>\n",
       "      <td>4.015315e+01</td>\n",
       "      <td>1.248693e+01</td>\n",
       "      <td>1.526830e+01</td>\n",
       "      <td>1.354638e+01</td>\n",
       "    </tr>\n",
       "    <tr>\n",
       "      <th>std</th>\n",
       "      <td>2.981095e+03</td>\n",
       "      <td>9.168964e+00</td>\n",
       "      <td>5.051022e+00</td>\n",
       "      <td>8.900841e+00</td>\n",
       "      <td>4.903456e+00</td>\n",
       "      <td>3.556400e+01</td>\n",
       "      <td>8.690761e+01</td>\n",
       "      <td>6.391860e+00</td>\n",
       "    </tr>\n",
       "    <tr>\n",
       "      <th>min</th>\n",
       "      <td>0.000000e+00</td>\n",
       "      <td>-1.219343e+02</td>\n",
       "      <td>0.000000e+00</td>\n",
       "      <td>-1.219335e+02</td>\n",
       "      <td>0.000000e+00</td>\n",
       "      <td>-9.576000e+02</td>\n",
       "      <td>-4.400000e+01</td>\n",
       "      <td>0.000000e+00</td>\n",
       "    </tr>\n",
       "    <tr>\n",
       "      <th>25%</th>\n",
       "      <td>1.000000e+00</td>\n",
       "      <td>-7.399151e+01</td>\n",
       "      <td>4.073630e+01</td>\n",
       "      <td>-7.399107e+01</td>\n",
       "      <td>4.073481e+01</td>\n",
       "      <td>6.500000e+00</td>\n",
       "      <td>6.000000e+00</td>\n",
       "      <td>9.000000e+00</td>\n",
       "    </tr>\n",
       "    <tr>\n",
       "      <th>50%</th>\n",
       "      <td>1.670000e+00</td>\n",
       "      <td>-7.398138e+01</td>\n",
       "      <td>4.075369e+01</td>\n",
       "      <td>-7.397942e+01</td>\n",
       "      <td>4.075413e+01</td>\n",
       "      <td>9.000000e+00</td>\n",
       "      <td>1.000000e+01</td>\n",
       "      <td>1.400000e+01</td>\n",
       "    </tr>\n",
       "    <tr>\n",
       "      <th>75%</th>\n",
       "      <td>3.080000e+00</td>\n",
       "      <td>-7.396610e+01</td>\n",
       "      <td>4.076808e+01</td>\n",
       "      <td>-7.396196e+01</td>\n",
       "      <td>4.076962e+01</td>\n",
       "      <td>1.400000e+01</td>\n",
       "      <td>1.700000e+01</td>\n",
       "      <td>1.900000e+01</td>\n",
       "    </tr>\n",
       "    <tr>\n",
       "      <th>max</th>\n",
       "      <td>8.000010e+06</td>\n",
       "      <td>0.000000e+00</td>\n",
       "      <td>6.090876e+01</td>\n",
       "      <td>0.000000e+00</td>\n",
       "      <td>6.090876e+01</td>\n",
       "      <td>1.112709e+05</td>\n",
       "      <td>1.199130e+05</td>\n",
       "      <td>2.300000e+01</td>\n",
       "    </tr>\n",
       "  </tbody>\n",
       "</table>\n",
       "</div>"
      ],
      "text/plain": [
       "       trip_distance  pickup_longitude  pickup_latitude  dropoff_longitude  \\\n",
       "count   1.090686e+07      1.090686e+07     1.090686e+07       1.090686e+07   \n",
       "mean    4.648197e+00     -7.281869e+01     4.011494e+01      -7.288659e+01   \n",
       "std     2.981095e+03      9.168964e+00     5.051022e+00       8.900841e+00   \n",
       "min     0.000000e+00     -1.219343e+02     0.000000e+00      -1.219335e+02   \n",
       "25%     1.000000e+00     -7.399151e+01     4.073630e+01      -7.399107e+01   \n",
       "50%     1.670000e+00     -7.398138e+01     4.075369e+01      -7.397942e+01   \n",
       "75%     3.080000e+00     -7.396610e+01     4.076808e+01      -7.396196e+01   \n",
       "max     8.000010e+06      0.000000e+00     6.090876e+01       0.000000e+00   \n",
       "\n",
       "       dropoff_latitude   fare_amount  TripDuration         Phour  \n",
       "count      1.090686e+07  1.090686e+07  1.090686e+07  1.090686e+07  \n",
       "mean       4.015315e+01  1.248693e+01  1.526830e+01  1.354638e+01  \n",
       "std        4.903456e+00  3.556400e+01  8.690761e+01  6.391860e+00  \n",
       "min        0.000000e+00 -9.576000e+02 -4.400000e+01  0.000000e+00  \n",
       "25%        4.073481e+01  6.500000e+00  6.000000e+00  9.000000e+00  \n",
       "50%        4.075413e+01  9.000000e+00  1.000000e+01  1.400000e+01  \n",
       "75%        4.076962e+01  1.400000e+01  1.700000e+01  1.900000e+01  \n",
       "max        6.090876e+01  1.112709e+05  1.199130e+05  2.300000e+01  "
      ]
     },
     "execution_count": 103,
     "metadata": {},
     "output_type": "execute_result"
    }
   ],
   "source": [
    "taxi_fnl.describe()"
   ]
  },
  {
   "cell_type": "code",
   "execution_count": 104,
   "metadata": {
    "collapsed": false,
    "deletable": true,
    "editable": true
   },
   "outputs": [
    {
     "data": {
      "text/html": [
       "<div>\n",
       "<table border=\"1\" class=\"dataframe\">\n",
       "  <thead>\n",
       "    <tr style=\"text-align: right;\">\n",
       "      <th></th>\n",
       "      <th>trip_distance</th>\n",
       "      <th>pickup_longitude</th>\n",
       "      <th>pickup_latitude</th>\n",
       "      <th>dropoff_longitude</th>\n",
       "      <th>dropoff_latitude</th>\n",
       "      <th>fare_amount</th>\n",
       "      <th>TripDuration</th>\n",
       "      <th>Phour</th>\n",
       "    </tr>\n",
       "  </thead>\n",
       "  <tbody>\n",
       "    <tr>\n",
       "      <th>trip_distance</th>\n",
       "      <td>1.000000</td>\n",
       "      <td>-0.000083</td>\n",
       "      <td>0.000083</td>\n",
       "      <td>-0.000085</td>\n",
       "      <td>0.000091</td>\n",
       "      <td>0.000392</td>\n",
       "      <td>0.000152</td>\n",
       "      <td>-0.000020</td>\n",
       "    </tr>\n",
       "    <tr>\n",
       "      <th>pickup_longitude</th>\n",
       "      <td>-0.000083</td>\n",
       "      <td>1.000000</td>\n",
       "      <td>-0.999934</td>\n",
       "      <td>0.872841</td>\n",
       "      <td>-0.872787</td>\n",
       "      <td>0.004237</td>\n",
       "      <td>-0.001873</td>\n",
       "      <td>-0.001506</td>\n",
       "    </tr>\n",
       "    <tr>\n",
       "      <th>pickup_latitude</th>\n",
       "      <td>0.000083</td>\n",
       "      <td>-0.999934</td>\n",
       "      <td>1.000000</td>\n",
       "      <td>-0.872798</td>\n",
       "      <td>0.872829</td>\n",
       "      <td>-0.004132</td>\n",
       "      <td>0.001876</td>\n",
       "      <td>0.001683</td>\n",
       "    </tr>\n",
       "    <tr>\n",
       "      <th>dropoff_longitude</th>\n",
       "      <td>-0.000085</td>\n",
       "      <td>0.872841</td>\n",
       "      <td>-0.872798</td>\n",
       "      <td>1.000000</td>\n",
       "      <td>-0.999907</td>\n",
       "      <td>0.003048</td>\n",
       "      <td>-0.002642</td>\n",
       "      <td>-0.000434</td>\n",
       "    </tr>\n",
       "    <tr>\n",
       "      <th>dropoff_latitude</th>\n",
       "      <td>0.000091</td>\n",
       "      <td>-0.872787</td>\n",
       "      <td>0.872829</td>\n",
       "      <td>-0.999907</td>\n",
       "      <td>1.000000</td>\n",
       "      <td>-0.003026</td>\n",
       "      <td>0.002601</td>\n",
       "      <td>0.000371</td>\n",
       "    </tr>\n",
       "    <tr>\n",
       "      <th>fare_amount</th>\n",
       "      <td>0.000392</td>\n",
       "      <td>0.004237</td>\n",
       "      <td>-0.004132</td>\n",
       "      <td>0.003048</td>\n",
       "      <td>-0.003026</td>\n",
       "      <td>1.000000</td>\n",
       "      <td>0.030443</td>\n",
       "      <td>-0.003512</td>\n",
       "    </tr>\n",
       "    <tr>\n",
       "      <th>TripDuration</th>\n",
       "      <td>0.000152</td>\n",
       "      <td>-0.001873</td>\n",
       "      <td>0.001876</td>\n",
       "      <td>-0.002642</td>\n",
       "      <td>0.002601</td>\n",
       "      <td>0.030443</td>\n",
       "      <td>1.000000</td>\n",
       "      <td>-0.000354</td>\n",
       "    </tr>\n",
       "    <tr>\n",
       "      <th>Phour</th>\n",
       "      <td>-0.000020</td>\n",
       "      <td>-0.001506</td>\n",
       "      <td>0.001683</td>\n",
       "      <td>-0.000434</td>\n",
       "      <td>0.000371</td>\n",
       "      <td>-0.003512</td>\n",
       "      <td>-0.000354</td>\n",
       "      <td>1.000000</td>\n",
       "    </tr>\n",
       "  </tbody>\n",
       "</table>\n",
       "</div>"
      ],
      "text/plain": [
       "                   trip_distance  pickup_longitude  pickup_latitude  \\\n",
       "trip_distance           1.000000         -0.000083         0.000083   \n",
       "pickup_longitude       -0.000083          1.000000        -0.999934   \n",
       "pickup_latitude         0.000083         -0.999934         1.000000   \n",
       "dropoff_longitude      -0.000085          0.872841        -0.872798   \n",
       "dropoff_latitude        0.000091         -0.872787         0.872829   \n",
       "fare_amount             0.000392          0.004237        -0.004132   \n",
       "TripDuration            0.000152         -0.001873         0.001876   \n",
       "Phour                  -0.000020         -0.001506         0.001683   \n",
       "\n",
       "                   dropoff_longitude  dropoff_latitude  fare_amount  \\\n",
       "trip_distance              -0.000085          0.000091     0.000392   \n",
       "pickup_longitude            0.872841         -0.872787     0.004237   \n",
       "pickup_latitude            -0.872798          0.872829    -0.004132   \n",
       "dropoff_longitude           1.000000         -0.999907     0.003048   \n",
       "dropoff_latitude           -0.999907          1.000000    -0.003026   \n",
       "fare_amount                 0.003048         -0.003026     1.000000   \n",
       "TripDuration               -0.002642          0.002601     0.030443   \n",
       "Phour                      -0.000434          0.000371    -0.003512   \n",
       "\n",
       "                   TripDuration     Phour  \n",
       "trip_distance          0.000152 -0.000020  \n",
       "pickup_longitude      -0.001873 -0.001506  \n",
       "pickup_latitude        0.001876  0.001683  \n",
       "dropoff_longitude     -0.002642 -0.000434  \n",
       "dropoff_latitude       0.002601  0.000371  \n",
       "fare_amount            0.030443 -0.003512  \n",
       "TripDuration           1.000000 -0.000354  \n",
       "Phour                 -0.000354  1.000000  "
      ]
     },
     "execution_count": 104,
     "metadata": {},
     "output_type": "execute_result"
    }
   ],
   "source": [
    "taxi_fnl.corr()"
   ]
  },
  {
   "cell_type": "code",
   "execution_count": 105,
   "metadata": {
    "collapsed": true,
    "deletable": true,
    "editable": true
   },
   "outputs": [],
   "source": [
    "import matplotlib.pyplot as plt\n",
    "from pandas.tools.plotting import scatter_matrix\n",
    "temp = taxi_fnl[(taxi_fnl['trip_distance'] > 1) & (taxi_fnl['trip_distance'] < 5.4) & (taxi_fnl['TripDuration'] < 28) & (taxi_fnl['fare_amount'] < 20.5)]\n",
    "temp = temp[(temp['TripDuration'] > 0.0000) & (temp['fare_amount'] > 1)]\n",
    "temp = temp[(temp['pickup_longitude'] != 0.0000) & (temp['dropoff_longitude'] != 0.0000)]\n",
    "len(temp)\n",
    "temp.boxplot(return_type='axes');"
   ]
  },
  {
   "cell_type": "code",
   "execution_count": null,
   "metadata": {
    "collapsed": true,
    "deletable": true,
    "editable": true
   },
   "outputs": [],
   "source": [
    "len(temp)"
   ]
  },
  {
   "cell_type": "code",
   "execution_count": 110,
   "metadata": {
    "collapsed": true,
    "deletable": true,
    "editable": true
   },
   "outputs": [],
   "source": [
    "temp.boxplot(return_type='axes');"
   ]
  },
  {
   "cell_type": "code",
   "execution_count": 111,
   "metadata": {
    "collapsed": false,
    "deletable": true,
    "editable": true
   },
   "outputs": [
    {
     "data": {
      "image/png": "[encoded data removed]",
      "text/plain": [
       "<matplotlib.figure.Figure at 0x7f6636f08c88>"
      ]
     },
     "metadata": {},
     "output_type": "display_data"
    }
   ],
   "source": [
    "plt.show()"
   ]
  },
  {
   "cell_type": "code",
   "execution_count": 107,
   "metadata": {
    "collapsed": true,
    "deletable": true,
    "editable": true
   },
   "outputs": [],
   "source": [
    "taxi_temp = temp.sample(n=50000)"
   ]
  },
  {
   "cell_type": "code",
   "execution_count": 108,
   "metadata": {
    "collapsed": false,
    "deletable": true,
    "editable": true
   },
   "outputs": [
    {
     "data": {
      "text/html": [
       "<div>\n",
       "<table border=\"1\" class=\"dataframe\">\n",
       "  <thead>\n",
       "    <tr style=\"text-align: right;\">\n",
       "      <th></th>\n",
       "      <th>trip_distance</th>\n",
       "      <th>pickup_longitude</th>\n",
       "      <th>pickup_latitude</th>\n",
       "      <th>dropoff_longitude</th>\n",
       "      <th>dropoff_latitude</th>\n",
       "      <th>fare_amount</th>\n",
       "      <th>TripDuration</th>\n",
       "      <th>Phour</th>\n",
       "    </tr>\n",
       "  </thead>\n",
       "  <tbody>\n",
       "    <tr>\n",
       "      <th>trip_distance</th>\n",
       "      <td>1.000000</td>\n",
       "      <td>0.008148</td>\n",
       "      <td>-0.051393</td>\n",
       "      <td>0.158594</td>\n",
       "      <td>-0.072604</td>\n",
       "      <td>0.866762</td>\n",
       "      <td>0.592711</td>\n",
       "      <td>-0.036278</td>\n",
       "    </tr>\n",
       "    <tr>\n",
       "      <th>pickup_longitude</th>\n",
       "      <td>0.008148</td>\n",
       "      <td>1.000000</td>\n",
       "      <td>0.703561</td>\n",
       "      <td>0.450628</td>\n",
       "      <td>0.205359</td>\n",
       "      <td>-0.012506</td>\n",
       "      <td>-0.038399</td>\n",
       "      <td>-0.019567</td>\n",
       "    </tr>\n",
       "    <tr>\n",
       "      <th>pickup_latitude</th>\n",
       "      <td>-0.051393</td>\n",
       "      <td>0.703561</td>\n",
       "      <td>1.000000</td>\n",
       "      <td>0.113282</td>\n",
       "      <td>0.303342</td>\n",
       "      <td>-0.039712</td>\n",
       "      <td>-0.022723</td>\n",
       "      <td>0.012685</td>\n",
       "    </tr>\n",
       "    <tr>\n",
       "      <th>dropoff_longitude</th>\n",
       "      <td>0.158594</td>\n",
       "      <td>0.450628</td>\n",
       "      <td>0.113282</td>\n",
       "      <td>1.000000</td>\n",
       "      <td>0.417711</td>\n",
       "      <td>0.085108</td>\n",
       "      <td>-0.006558</td>\n",
       "      <td>-0.030446</td>\n",
       "    </tr>\n",
       "    <tr>\n",
       "      <th>dropoff_latitude</th>\n",
       "      <td>-0.072604</td>\n",
       "      <td>0.205359</td>\n",
       "      <td>0.303342</td>\n",
       "      <td>0.417711</td>\n",
       "      <td>1.000000</td>\n",
       "      <td>-0.084384</td>\n",
       "      <td>-0.075452</td>\n",
       "      <td>0.029289</td>\n",
       "    </tr>\n",
       "    <tr>\n",
       "      <th>fare_amount</th>\n",
       "      <td>0.866762</td>\n",
       "      <td>-0.012506</td>\n",
       "      <td>-0.039712</td>\n",
       "      <td>0.085108</td>\n",
       "      <td>-0.084384</td>\n",
       "      <td>1.000000</td>\n",
       "      <td>0.902333</td>\n",
       "      <td>0.006431</td>\n",
       "    </tr>\n",
       "    <tr>\n",
       "      <th>TripDuration</th>\n",
       "      <td>0.592711</td>\n",
       "      <td>-0.038399</td>\n",
       "      <td>-0.022723</td>\n",
       "      <td>-0.006558</td>\n",
       "      <td>-0.075452</td>\n",
       "      <td>0.902333</td>\n",
       "      <td>1.000000</td>\n",
       "      <td>0.055581</td>\n",
       "    </tr>\n",
       "    <tr>\n",
       "      <th>Phour</th>\n",
       "      <td>-0.036278</td>\n",
       "      <td>-0.019567</td>\n",
       "      <td>0.012685</td>\n",
       "      <td>-0.030446</td>\n",
       "      <td>0.029289</td>\n",
       "      <td>0.006431</td>\n",
       "      <td>0.055581</td>\n",
       "      <td>1.000000</td>\n",
       "    </tr>\n",
       "  </tbody>\n",
       "</table>\n",
       "</div>"
      ],
      "text/plain": [
       "                   trip_distance  pickup_longitude  pickup_latitude  \\\n",
       "trip_distance           1.000000          0.008148        -0.051393   \n",
       "pickup_longitude        0.008148          1.000000         0.703561   \n",
       "pickup_latitude        -0.051393          0.703561         1.000000   \n",
       "dropoff_longitude       0.158594          0.450628         0.113282   \n",
       "dropoff_latitude       -0.072604          0.205359         0.303342   \n",
       "fare_amount             0.866762         -0.012506        -0.039712   \n",
       "TripDuration            0.592711         -0.038399        -0.022723   \n",
       "Phour                  -0.036278         -0.019567         0.012685   \n",
       "\n",
       "                   dropoff_longitude  dropoff_latitude  fare_amount  \\\n",
       "trip_distance               0.158594         -0.072604     0.866762   \n",
       "pickup_longitude            0.450628          0.205359    -0.012506   \n",
       "pickup_latitude             0.113282          0.303342    -0.039712   \n",
       "dropoff_longitude           1.000000          0.417711     0.085108   \n",
       "dropoff_latitude            0.417711          1.000000    -0.084384   \n",
       "fare_amount                 0.085108         -0.084384     1.000000   \n",
       "TripDuration               -0.006558         -0.075452     0.902333   \n",
       "Phour                      -0.030446          0.029289     0.006431   \n",
       "\n",
       "                   TripDuration     Phour  \n",
       "trip_distance          0.592711 -0.036278  \n",
       "pickup_longitude      -0.038399 -0.019567  \n",
       "pickup_latitude       -0.022723  0.012685  \n",
       "dropoff_longitude     -0.006558 -0.030446  \n",
       "dropoff_latitude      -0.075452  0.029289  \n",
       "fare_amount            0.902333  0.006431  \n",
       "TripDuration           1.000000  0.055581  \n",
       "Phour                  0.055581  1.000000  "
      ]
     },
     "execution_count": 108,
     "metadata": {},
     "output_type": "execute_result"
    }
   ],
   "source": [
    "taxi_temp.corr()"
   ]
  },
  {
   "cell_type": "code",
   "execution_count": 112,
   "metadata": {
    "collapsed": false,
    "deletable": true,
    "editable": true
   },
   "outputs": [
    {
     "data": {
      "text/plain": [
       "<matplotlib.collections.PathCollection at 0x7f6636978160>"
      ]
     },
     "execution_count": 112,
     "metadata": {},
     "output_type": "execute_result"
    }
   ],
   "source": [
    "plt.scatter(y=taxi_temp['TripDuration'],x=taxi_temp['fare_amount'])"
   ]
  },
  {
   "cell_type": "code",
   "execution_count": 113,
   "metadata": {
    "collapsed": false,
    "deletable": true,
    "editable": true,
    "scrolled": true
   },
   "outputs": [
    {
     "data": {
      "image/png": "[encoded data removed]",
      "text/plain": [
       "<matplotlib.figure.Figure at 0x7f66369a51d0>"
      ]
     },
     "metadata": {},
     "output_type": "display_data"
    }
   ],
   "source": [
    "plt.show()"
   ]
  },
  {
   "cell_type": "code",
   "execution_count": 114,
   "metadata": {
    "collapsed": false,
    "deletable": true,
    "editable": true
   },
   "outputs": [
    {
     "data": {
      "text/plain": [
       "<matplotlib.collections.PathCollection at 0x7f66368e8160>"
      ]
     },
     "execution_count": 114,
     "metadata": {},
     "output_type": "execute_result"
    }
   ],
   "source": [
    "plt.scatter(y=taxi_temp['TripDuration'],x=taxi_temp['trip_distance'])"
   ]
  },
  {
   "cell_type": "code",
   "execution_count": 115,
   "metadata": {
    "collapsed": false,
    "deletable": true,
    "editable": true
   },
   "outputs": [
    {
     "data": {
      "image/png": "[encoded data removed]",
      "text/plain": [
       "<matplotlib.figure.Figure at 0x7f66369b22b0>"
      ]
     },
     "metadata": {},
     "output_type": "display_data"
    }
   ],
   "source": [
    "plt.show()"
   ]
  },
  {
   "cell_type": "markdown",
   "metadata": {
    "deletable": true,
    "editable": true
   },
   "source": [
    "# Reverse geocoding to get zip codes"
   ]
  },
  {
   "cell_type": "markdown",
   "metadata": {
    "deletable": true,
    "editable": true
   },
   "source": [
    "# Pickup locations"
   ]
  },
  {
   "cell_type": "code",
   "execution_count": 18,
   "metadata": {
    "collapsed": true,
    "deletable": true,
    "editable": true
   },
   "outputs": [],
   "source": [
    "ziplistPickup = []\n",
    "ziplistDropoff = []\n",
    "countP = 0"
   ]
  },
  {
   "cell_type": "code",
   "execution_count": 19,
   "metadata": {
    "collapsed": true,
    "deletable": true,
    "editable": true
   },
   "outputs": [],
   "source": [
    "import geocoder\n",
    "import time"
   ]
  },
  {
   "cell_type": "code",
   "execution_count": null,
   "metadata": {
    "collapsed": false,
    "deletable": true,
    "editable": true,
    "scrolled": false
   },
   "outputs": [],
   "source": [
    "for index, row in taxi_df.iterrows():    \n",
    "        location1 = geocoder.bing([taxi_df['pickup_latitude'][index], taxi_df['pickup_longitude'][index]], method='reverse', key='AttqTtXAM_SEeSZpjmY7Waz5AUgsmwjldiQyl_9oBTVBXb11L7yhqh94tMr7cdG8')\n",
    "        location2 = geocoder.bing([taxi_df['dropoff_latitude'][index], taxi_df['dropoff_longitude'][index]], method='reverse', key='AttqTtXAM_SEeSZpjmY7Waz5AUgsmwjldiQyl_9oBTVBXb11L7yhqh94tMr7cdG8')\n",
    "        if (location1.address != None) & (location2.address != None):\n",
    "            ziplistPickup.append(location1.postal)\n",
    "            ziplistDropoff.append(location2.postal)\n",
    "        else:\n",
    "            ziplistPickup.append(\"LOCATION NOT FOUND\")\n",
    "            ziplistDropoff.append(\"LOCATION NOT FOUND\")\n",
    "        countP=countP+1\n",
    "        print(countP)"
   ]
  },
  {
   "cell_type": "code",
   "execution_count": null,
   "metadata": {
    "collapsed": false,
    "deletable": true,
    "editable": true
   },
   "outputs": [],
   "source": [
    "print(len(ziplistPickup))"
   ]
  },
  {
   "cell_type": "code",
   "execution_count": null,
   "metadata": {
    "collapsed": true,
    "deletable": true,
    "editable": true
   },
   "outputs": [],
   "source": [
    "df = pd.DataFrame(ziplistPickup)"
   ]
  },
  {
   "cell_type": "code",
   "execution_count": null,
   "metadata": {
    "collapsed": true,
    "deletable": true,
    "editable": true
   },
   "outputs": [],
   "source": [
    "df.columns=['Pickup_Zipcode']"
   ]
  },
  {
   "cell_type": "markdown",
   "metadata": {
    "deletable": true,
    "editable": true
   },
   "source": [
    "# Dropoff locations"
   ]
  },
  {
   "cell_type": "code",
   "execution_count": null,
   "metadata": {
    "collapsed": true,
    "deletable": true,
    "editable": true
   },
   "outputs": [],
   "source": [
    "ziplistDropoff = []\n",
    "countD = 0"
   ]
  },
  {
   "cell_type": "code",
   "execution_count": null,
   "metadata": {
    "collapsed": false,
    "deletable": true,
    "editable": true
   },
   "outputs": [],
   "source": [
    "for index, row in taxi_df.iterrows():    \n",
    "    if taxi_df['dropoff_longitude'][index] == 0 and taxi_df['dropoff_latitude'][index] == 0:\n",
    "        ziplistDropoff.append(\"INVALID LOCATION\")\n",
    "    elif taxi_df['dropoff_longitude'][index] == 0 or taxi_df['dropoff_latitude'][index] == 0:\n",
    "        ziplistDropoff.append(\"INVALID LOCATION\")        \n",
    "    else:\n",
    "        location = geocoder.bing([taxi_df['dropoff_longitude'][index], taxi_df['dropoff_latitude'][index]], method='reverse', key='AttqTtXAM_SEeSZpjmY7Waz5AUgsmwjldiQyl_9oBTVBXb11L7yhqh94tMr7cdG8')\n",
    "        if location.address != None:\n",
    "            ziplistDropoff.append(location.postal)\n",
    "        else:\n",
    "            ziplistDropoff.append(\"LOCATION NOT FOUND\")\n",
    "        countD=countD+1\n",
    "        print(countD)"
   ]
  },
  {
   "cell_type": "code",
   "execution_count": null,
   "metadata": {
    "collapsed": true,
    "deletable": true,
    "editable": true
   },
   "outputs": [],
   "source": [
    "print(len(ziplistDropoff))"
   ]
  },
  {
   "cell_type": "code",
   "execution_count": null,
   "metadata": {
    "collapsed": true,
    "deletable": true,
    "editable": true
   },
   "outputs": [],
   "source": [
    "df1 = pd.DataFrame(ziplistDropoff)"
   ]
  },
  {
   "cell_type": "code",
   "execution_count": null,
   "metadata": {
    "collapsed": false,
    "deletable": true,
    "editable": true,
    "scrolled": true
   },
   "outputs": [],
   "source": [
    "df1.columns=['Dropoff_Zipcode']"
   ]
  },
  {
   "cell_type": "markdown",
   "metadata": {
    "deletable": true,
    "editable": true
   },
   "source": [
    "# Loading into spark"
   ]
  },
  {
   "cell_type": "code",
   "execution_count": 10,
   "metadata": {
    "collapsed": false,
    "deletable": true,
    "editable": true
   },
   "outputs": [],
   "source": [
    "taxiDf = spark.createDataFrame(taxi_df)"
   ]
  },
  {
   "cell_type": "code",
   "execution_count": 11,
   "metadata": {
    "collapsed": false,
    "deletable": true,
    "editable": true
   },
   "outputs": [
    {
     "name": "stdout",
     "output_type": "stream",
     "text": [
      "+-------------+------------------+------------------+------------------+------------------+-----------+------------+------------+-----+\n",
      "|trip_distance|  pickup_longitude|   pickup_latitude| dropoff_longitude|  dropoff_latitude|fare_amount|TripDuration|Day_of_WeekP|Phour|\n",
      "+-------------+------------------+------------------+------------------+------------------+-----------+------------+------------+-----+\n",
      "|          2.5|   -73.99072265625|   40.749267578125|-73.96504974365234| 40.75496292114258|        9.5|         9.0|      Friday|    2|\n",
      "|          1.3| -73.9751968383789|  40.7823600769043|-73.96562194824219| 40.79207992553711|        6.5|         5.0|      Sunday|   19|\n",
      "|         1.47|-74.00397491455078| 40.72573852539063|-73.99896240234375| 40.74453353881836|        6.5|         6.0|      Sunday|   14|\n",
      "|          1.4|-73.97034454345702|40.752235412597656|-73.97855377197266| 40.73601531982422|        6.5|         5.0|   Wednesday|   21|\n",
      "|          1.2|-74.01358032226562|40.712833404541016|-74.01221466064453| 40.70368957519531|        6.5|         6.0|      Friday|   18|\n",
      "|         2.18| -73.9688491821289| 40.79890060424805|-73.98309326171875| 40.77484130859375|        9.0|        10.0|      Friday|   12|\n",
      "|         1.38|-73.97361755371094| 40.75085067749024|-73.99295043945312| 40.75796127319336|        7.5|         8.0|    Saturday|    8|\n",
      "|         2.88|-73.95384216308594| 40.77087020874024|-73.93489837646483| 40.74639892578125|       13.0|        14.0|     Tuesday|    8|\n",
      "|         2.02|-73.97897338867188|  40.7607307434082|-74.00437927246094|40.756736755371094|       11.0|        14.0|      Sunday|   19|\n",
      "|         1.42|-73.95417022705078| 40.78711318969727|-73.96320343017578| 40.76902389526367|       10.5|        14.0|    Thursday|   11|\n",
      "|          1.8|-73.97348022460938| 40.75021362304688|-73.99508666992188|40.744102478027344|       11.5|        16.0|   Wednesday|   18|\n",
      "|         2.84|-73.99774169921875|  40.7215576171875| -73.9916458129883| 40.68769836425781|       11.0|        12.0|      Sunday|    0|\n",
      "|         1.77|-73.94666290283203| 40.75349044799805|-73.94666290283203| 40.75349044799805|       10.5|        14.0|   Wednesday|   12|\n",
      "|         2.78|-73.99287414550781| 40.71523666381836|-73.96150970458984|  40.7174186706543|       11.0|        11.0|      Friday|    1|\n",
      "|         2.56|-73.99343872070312|  40.7332420349121|-73.97056579589844|40.761966705322266|       15.5|        23.0|   Wednesday|   13|\n",
      "|         1.15|-73.98703002929686|40.750919342041016|-73.97911071777342| 40.74052047729492|        6.5|         6.0|      Friday|    0|\n",
      "|         1.95|-74.00187683105469| 40.74592590332031|-73.98320770263672| 40.73331832885742|        9.5|        10.0|    Saturday|    9|\n",
      "|          4.0|-74.01073455810547| 40.70395278930664|-73.97370910644531| 40.67897415161133|       15.0|        17.0|     Tuesday|   20|\n",
      "|          1.2|-73.99199676513672|  40.7440299987793|-73.99378204345702| 40.75645065307617|        6.5|         6.0|    Saturday|   10|\n",
      "|         2.62|-73.97293853759766| 40.75596237182617| -74.0000457763672| 40.73052597045898|       13.5|        19.0|    Saturday|   23|\n",
      "+-------------+------------------+------------------+------------------+------------------+-----------+------------+------------+-----+\n",
      "only showing top 20 rows\n",
      "\n"
     ]
    }
   ],
   "source": [
    "taxiDf.show()"
   ]
  },
  {
   "cell_type": "code",
   "execution_count": null,
   "metadata": {
    "collapsed": false,
    "deletable": true,
    "editable": true
   },
   "outputs": [],
   "source": [
    "for i in taxiDf.columns:\n",
    "    print(\"Correlation between Trip Duration and \",i,\" is \",taxiDf.stat.corr('TripDuration',i))"
   ]
  },
  {
   "cell_type": "markdown",
   "metadata": {
    "deletable": true,
    "editable": true
   },
   "source": [
    "# Indexing Day of week and Pickup hour"
   ]
  },
  {
   "cell_type": "code",
   "execution_count": 15,
   "metadata": {
    "collapsed": false,
    "deletable": true,
    "editable": true,
    "scrolled": false
   },
   "outputs": [
    {
     "name": "stdout",
     "output_type": "stream",
     "text": [
      "+-------------+------------------+------------------+------------------+------------------+-----------+------------+------------+-----+-----------+\n",
      "|trip_distance|  pickup_longitude|   pickup_latitude| dropoff_longitude|  dropoff_latitude|fare_amount|TripDuration|Day_of_WeekP|Phour|Day_indexed|\n",
      "+-------------+------------------+------------------+------------------+------------------+-----------+------------+------------+-----+-----------+\n",
      "|          2.5|   -73.99072265625|   40.749267578125|-73.96504974365234| 40.75496292114258|        9.5|         9.0|      Friday|    2|        0.0|\n",
      "|          1.3| -73.9751968383789|  40.7823600769043|-73.96562194824219| 40.79207992553711|        6.5|         5.0|      Sunday|   19|        2.0|\n",
      "|         1.47|-74.00397491455078| 40.72573852539063|-73.99896240234375| 40.74453353881836|        6.5|         6.0|      Sunday|   14|        2.0|\n",
      "|          1.4|-73.97034454345702|40.752235412597656|-73.97855377197266| 40.73601531982422|        6.5|         5.0|   Wednesday|   21|        4.0|\n",
      "|          1.2|-74.01358032226562|40.712833404541016|-74.01221466064453| 40.70368957519531|        6.5|         6.0|      Friday|   18|        0.0|\n",
      "|         2.18| -73.9688491821289| 40.79890060424805|-73.98309326171875| 40.77484130859375|        9.0|        10.0|      Friday|   12|        0.0|\n",
      "|         1.38|-73.97361755371094| 40.75085067749024|-73.99295043945312| 40.75796127319336|        7.5|         8.0|    Saturday|    8|        1.0|\n",
      "|         2.88|-73.95384216308594| 40.77087020874024|-73.93489837646483| 40.74639892578125|       13.0|        14.0|     Tuesday|    8|        5.0|\n",
      "|         2.02|-73.97897338867188|  40.7607307434082|-74.00437927246094|40.756736755371094|       11.0|        14.0|      Sunday|   19|        2.0|\n",
      "|         1.42|-73.95417022705078| 40.78711318969727|-73.96320343017578| 40.76902389526367|       10.5|        14.0|    Thursday|   11|        3.0|\n",
      "|          1.8|-73.97348022460938| 40.75021362304688|-73.99508666992188|40.744102478027344|       11.5|        16.0|   Wednesday|   18|        4.0|\n",
      "|         2.84|-73.99774169921875|  40.7215576171875| -73.9916458129883| 40.68769836425781|       11.0|        12.0|      Sunday|    0|        2.0|\n",
      "|         1.77|-73.94666290283203| 40.75349044799805|-73.94666290283203| 40.75349044799805|       10.5|        14.0|   Wednesday|   12|        4.0|\n",
      "|         2.78|-73.99287414550781| 40.71523666381836|-73.96150970458984|  40.7174186706543|       11.0|        11.0|      Friday|    1|        0.0|\n",
      "|         2.56|-73.99343872070312|  40.7332420349121|-73.97056579589844|40.761966705322266|       15.5|        23.0|   Wednesday|   13|        4.0|\n",
      "|         1.15|-73.98703002929686|40.750919342041016|-73.97911071777342| 40.74052047729492|        6.5|         6.0|      Friday|    0|        0.0|\n",
      "|         1.95|-74.00187683105469| 40.74592590332031|-73.98320770263672| 40.73331832885742|        9.5|        10.0|    Saturday|    9|        1.0|\n",
      "|          4.0|-74.01073455810547| 40.70395278930664|-73.97370910644531| 40.67897415161133|       15.0|        17.0|     Tuesday|   20|        5.0|\n",
      "|          1.2|-73.99199676513672|  40.7440299987793|-73.99378204345702| 40.75645065307617|        6.5|         6.0|    Saturday|   10|        1.0|\n",
      "|         2.62|-73.97293853759766| 40.75596237182617| -74.0000457763672| 40.73052597045898|       13.5|        19.0|    Saturday|   23|        1.0|\n",
      "+-------------+------------------+------------------+------------------+------------------+-----------+------------+------------+-----+-----------+\n",
      "only showing top 20 rows\n",
      "\n"
     ]
    }
   ],
   "source": [
    "from pyspark.ml.feature import StringIndexer\n",
    "stringIndexer = StringIndexer(inputCol=\"Day_of_WeekP\", outputCol=\"Day_indexed\",)\n",
    "si_model = stringIndexer.fit(taxiDf)\n",
    "td = si_model.transform(taxiDf)\n",
    "td.cache()\n",
    "td.show(20)"
   ]
  },
  {
   "cell_type": "code",
   "execution_count": 16,
   "metadata": {
    "collapsed": false,
    "deletable": true,
    "editable": true
   },
   "outputs": [
    {
     "name": "stdout",
     "output_type": "stream",
     "text": [
      "+-------------+------------------+------------------+------------------+------------------+-----------+------------+------------+-----+-----------+-------------+\n",
      "|trip_distance|  pickup_longitude|   pickup_latitude| dropoff_longitude|  dropoff_latitude|fare_amount|TripDuration|Day_of_WeekP|Phour|Day_indexed|Phour_indexed|\n",
      "+-------------+------------------+------------------+------------------+------------------+-----------+------------+------------+-----+-----------+-------------+\n",
      "|          2.5|   -73.99072265625|   40.749267578125|-73.96504974365234| 40.75496292114258|        9.5|         9.0|      Friday|    2|        0.0|         19.0|\n",
      "|          1.3| -73.9751968383789|  40.7823600769043|-73.96562194824219| 40.79207992553711|        6.5|         5.0|      Sunday|   19|        2.0|          0.0|\n",
      "|         1.47|-74.00397491455078| 40.72573852539063|-73.99896240234375| 40.74453353881836|        6.5|         6.0|      Sunday|   14|        2.0|          7.0|\n",
      "|          1.4|-73.97034454345702|40.752235412597656|-73.97855377197266| 40.73601531982422|        6.5|         5.0|   Wednesday|   21|        4.0|          3.0|\n",
      "|          1.2|-74.01358032226562|40.712833404541016|-74.01221466064453| 40.70368957519531|        6.5|         6.0|      Friday|   18|        0.0|          1.0|\n",
      "|         2.18| -73.9688491821289| 40.79890060424805|-73.98309326171875| 40.77484130859375|        9.0|        10.0|      Friday|   12|        0.0|          8.0|\n",
      "|         1.38|-73.97361755371094| 40.75085067749024|-73.99295043945312| 40.75796127319336|        7.5|         8.0|    Saturday|    8|        1.0|         14.0|\n",
      "|         2.88|-73.95384216308594| 40.77087020874024|-73.93489837646483| 40.74639892578125|       13.0|        14.0|     Tuesday|    8|        5.0|         14.0|\n",
      "|         2.02|-73.97897338867188|  40.7607307434082|-74.00437927246094|40.756736755371094|       11.0|        14.0|      Sunday|   19|        2.0|          0.0|\n",
      "|         1.42|-73.95417022705078| 40.78711318969727|-73.96320343017578| 40.76902389526367|       10.5|        14.0|    Thursday|   11|        3.0|         12.0|\n",
      "|          1.8|-73.97348022460938| 40.75021362304688|-73.99508666992188|40.744102478027344|       11.5|        16.0|   Wednesday|   18|        4.0|          1.0|\n",
      "|         2.84|-73.99774169921875|  40.7215576171875| -73.9916458129883| 40.68769836425781|       11.0|        12.0|      Sunday|    0|        2.0|         17.0|\n",
      "|         1.77|-73.94666290283203| 40.75349044799805|-73.94666290283203| 40.75349044799805|       10.5|        14.0|   Wednesday|   12|        4.0|          8.0|\n",
      "|         2.78|-73.99287414550781| 40.71523666381836|-73.96150970458984|  40.7174186706543|       11.0|        11.0|      Friday|    1|        0.0|         18.0|\n",
      "|         2.56|-73.99343872070312|  40.7332420349121|-73.97056579589844|40.761966705322266|       15.5|        23.0|   Wednesday|   13|        4.0|         11.0|\n",
      "|         1.15|-73.98703002929686|40.750919342041016|-73.97911071777342| 40.74052047729492|        6.5|         6.0|      Friday|    0|        0.0|         17.0|\n",
      "|         1.95|-74.00187683105469| 40.74592590332031|-73.98320770263672| 40.73331832885742|        9.5|        10.0|    Saturday|    9|        1.0|         13.0|\n",
      "|          4.0|-74.01073455810547| 40.70395278930664|-73.97370910644531| 40.67897415161133|       15.0|        17.0|     Tuesday|   20|        5.0|          2.0|\n",
      "|          1.2|-73.99199676513672|  40.7440299987793|-73.99378204345702| 40.75645065307617|        6.5|         6.0|    Saturday|   10|        1.0|         15.0|\n",
      "|         2.62|-73.97293853759766| 40.75596237182617| -74.0000457763672| 40.73052597045898|       13.5|        19.0|    Saturday|   23|        1.0|          9.0|\n",
      "+-------------+------------------+------------------+------------------+------------------+-----------+------------+------------+-----+-----------+-------------+\n",
      "only showing top 20 rows\n",
      "\n"
     ]
    }
   ],
   "source": [
    "from pyspark.ml.feature import StringIndexer\n",
    "stringIndexer = StringIndexer(inputCol=\"Phour\", outputCol=\"Phour_indexed\")\n",
    "si_model = stringIndexer.fit(td)\n",
    "td1 = si_model.transform(td)\n",
    "td1.cache()\n",
    "td1.show(20)"
   ]
  },
  {
   "cell_type": "code",
   "execution_count": 24,
   "metadata": {
    "collapsed": true,
    "deletable": true,
    "editable": true
   },
   "outputs": [],
   "source": [
    "from pyspark.sql import functions as fn\n",
    "from pyspark.ml import Pipeline, PipelineModel\n",
    "from pyspark.ml import feature\n",
    "from pyspark.ml import regression"
   ]
  },
  {
   "cell_type": "markdown",
   "metadata": {
    "deletable": true,
    "editable": true
   },
   "source": [
    "# Splitting data into train, validate and test"
   ]
  },
  {
   "cell_type": "code",
   "execution_count": 32,
   "metadata": {
    "collapsed": true,
    "deletable": true,
    "editable": true
   },
   "outputs": [],
   "source": [
    "trainingData, testData, validation = td1.randomSplit([0.6, 0.3, 0.1])"
   ]
  },
  {
   "cell_type": "code",
   "execution_count": 33,
   "metadata": {
    "collapsed": false,
    "deletable": true,
    "editable": true
   },
   "outputs": [
    {
     "name": "stdout",
     "output_type": "stream",
     "text": [
      "30164\n",
      "14845\n",
      "4991\n"
     ]
    }
   ],
   "source": [
    "print(trainingData.count())\n",
    "print(testData.count())\n",
    "print(validation.count())"
   ]
  },
  {
   "cell_type": "code",
   "execution_count": 69,
   "metadata": {
    "collapsed": true,
    "deletable": true,
    "editable": true
   },
   "outputs": [],
   "source": [
    "va1 = feature.VectorAssembler(inputCols=['trip_distance','fare_amount','Phour_indexed','Day_indexed'], outputCol='features')\n",
    "va2 = feature.VectorAssembler(inputCols=['trip_distance','Phour_indexed','Day_indexed'], outputCol='features')\n",
    "va3 = feature.VectorAssembler(inputCols=['Phour_indexed','Day_indexed'], outputCol='features')"
   ]
  },
  {
   "cell_type": "markdown",
   "metadata": {
    "deletable": true,
    "editable": true
   },
   "source": [
    "# Linear Regression"
   ]
  },
  {
   "cell_type": "code",
   "execution_count": 70,
   "metadata": {
    "collapsed": true,
    "deletable": true,
    "editable": true
   },
   "outputs": [],
   "source": [
    "lr1 = regression.LinearRegression(featuresCol='features', labelCol='TripDuration')"
   ]
  },
  {
   "cell_type": "markdown",
   "metadata": {
    "deletable": true,
    "editable": true
   },
   "source": [
    "## LR - Model 1"
   ]
  },
  {
   "cell_type": "code",
   "execution_count": 71,
   "metadata": {
    "collapsed": true,
    "deletable": true,
    "editable": true
   },
   "outputs": [],
   "source": [
    "pipeline1 = Pipeline(stages=[va1, lr1])"
   ]
  },
  {
   "cell_type": "code",
   "execution_count": 72,
   "metadata": {
    "collapsed": false,
    "deletable": true,
    "editable": true
   },
   "outputs": [
    {
     "name": "stdout",
     "output_type": "stream",
     "text": [
      "+-----------------+\n",
      "|     MSE for LR 1|\n",
      "+-----------------+\n",
      "|1.056190821661912|\n",
      "+-----------------+\n",
      "\n"
     ]
    }
   ],
   "source": [
    "linear_model1 = pipeline1.fit(trainingData)\n",
    "linear_model1.transform(trainingData).select('TripDuration', 'prediction')\n",
    "linear_model1.transform(trainingData).\\\n",
    "    select(fn.avg((fn.col('prediction') - fn.col('TripDuration'))**2).alias('MSE for LR 1')).\\\n",
    "    show()"
   ]
  },
  {
   "cell_type": "markdown",
   "metadata": {
    "deletable": true,
    "editable": true
   },
   "source": [
    "## LR - Model 2"
   ]
  },
  {
   "cell_type": "code",
   "execution_count": 73,
   "metadata": {
    "collapsed": true,
    "deletable": true,
    "editable": true
   },
   "outputs": [],
   "source": [
    "pipeline2 = Pipeline(stages=[va2, lr1])"
   ]
  },
  {
   "cell_type": "code",
   "execution_count": 74,
   "metadata": {
    "collapsed": false,
    "deletable": true,
    "editable": true
   },
   "outputs": [
    {
     "name": "stdout",
     "output_type": "stream",
     "text": [
      "+------------------+\n",
      "|      MSE for LR 2|\n",
      "+------------------+\n",
      "|16.785086246407005|\n",
      "+------------------+\n",
      "\n"
     ]
    }
   ],
   "source": [
    "linear_model2 = pipeline2.fit(trainingData)\n",
    "linear_model2.transform(trainingData).select('TripDuration', 'prediction')\n",
    "linear_model2.transform(trainingData).\\\n",
    "    select(fn.avg((fn.col('prediction') - fn.col('TripDuration'))**2).alias('MSE for LR 2')).\\\n",
    "    show()"
   ]
  },
  {
   "cell_type": "markdown",
   "metadata": {
    "deletable": true,
    "editable": true
   },
   "source": [
    "## LR - Model 3"
   ]
  },
  {
   "cell_type": "code",
   "execution_count": 75,
   "metadata": {
    "collapsed": true,
    "deletable": true,
    "editable": true
   },
   "outputs": [],
   "source": [
    "pipeline3 = Pipeline(stages=[va3, lr1])"
   ]
  },
  {
   "cell_type": "code",
   "execution_count": 76,
   "metadata": {
    "collapsed": false,
    "deletable": true,
    "editable": true
   },
   "outputs": [
    {
     "name": "stdout",
     "output_type": "stream",
     "text": [
      "+-----------------+\n",
      "|     MSE for LR 3|\n",
      "+-----------------+\n",
      "|26.17855809765752|\n",
      "+-----------------+\n",
      "\n"
     ]
    }
   ],
   "source": [
    "linear_model3 = pipeline3.fit(trainingData)\n",
    "linear_model3.transform(trainingData).select('TripDuration', 'prediction')\n",
    "linear_model3.transform(trainingData).\\\n",
    "    select(fn.avg((fn.col('prediction') - fn.col('TripDuration'))**2).alias('MSE for LR 3')).\\\n",
    "    show()"
   ]
  },
  {
   "cell_type": "markdown",
   "metadata": {
    "deletable": true,
    "editable": true
   },
   "source": [
    "# Random Forest Regression"
   ]
  },
  {
   "cell_type": "code",
   "execution_count": 77,
   "metadata": {
    "collapsed": true,
    "deletable": true,
    "editable": true
   },
   "outputs": [],
   "source": [
    "rf = RandomForestRegressor(labelCol=\"TripDuration\",featuresCol=\"features\")"
   ]
  },
  {
   "cell_type": "markdown",
   "metadata": {
    "deletable": true,
    "editable": true
   },
   "source": [
    "## RF - Model 1"
   ]
  },
  {
   "cell_type": "code",
   "execution_count": 78,
   "metadata": {
    "collapsed": true,
    "deletable": true,
    "editable": true
   },
   "outputs": [],
   "source": [
    "pipeline4 = Pipeline(stages=[va1, rf])"
   ]
  },
  {
   "cell_type": "code",
   "execution_count": 79,
   "metadata": {
    "collapsed": false,
    "deletable": true,
    "editable": true
   },
   "outputs": [
    {
     "name": "stdout",
     "output_type": "stream",
     "text": [
      "+-----------------+\n",
      "|     MSE for RF 1|\n",
      "+-----------------+\n",
      "|4.381486795488381|\n",
      "+-----------------+\n",
      "\n"
     ]
    }
   ],
   "source": [
    "RF_model1 = pipeline4.fit(trainingData)\n",
    "RF_model1.transform(trainingData).select('TripDuration', 'prediction')\n",
    "RF_model1.transform(trainingData).\\\n",
    "    select(fn.avg((fn.col('prediction') - fn.col('TripDuration'))**2).alias('MSE for RF 1')).\\\n",
    "    show()"
   ]
  },
  {
   "cell_type": "markdown",
   "metadata": {
    "deletable": true,
    "editable": true
   },
   "source": [
    "## RF - Model 2"
   ]
  },
  {
   "cell_type": "code",
   "execution_count": 80,
   "metadata": {
    "collapsed": true,
    "deletable": true,
    "editable": true
   },
   "outputs": [],
   "source": [
    "pipeline5 = Pipeline(stages=[va2, rf])"
   ]
  },
  {
   "cell_type": "code",
   "execution_count": 81,
   "metadata": {
    "collapsed": false,
    "deletable": true,
    "editable": true
   },
   "outputs": [
    {
     "name": "stdout",
     "output_type": "stream",
     "text": [
      "+------------------+\n",
      "|      MSE for RF 2|\n",
      "+------------------+\n",
      "|24.400940049192513|\n",
      "+------------------+\n",
      "\n"
     ]
    }
   ],
   "source": [
    "RF_model2 = pipeline5.fit(trainingData)\n",
    "RF_model2.transform(trainingData).select('TripDuration', 'prediction')\n",
    "RF_model2.transform(trainingData).\\\n",
    "    select(fn.avg((fn.col('prediction') - fn.col('TripDuration'))**2).alias('MSE for RF 2')).\\\n",
    "    show()"
   ]
  },
  {
   "cell_type": "markdown",
   "metadata": {
    "deletable": true,
    "editable": true
   },
   "source": [
    "## RF - Model 3"
   ]
  },
  {
   "cell_type": "code",
   "execution_count": 82,
   "metadata": {
    "collapsed": true,
    "deletable": true,
    "editable": true
   },
   "outputs": [],
   "source": [
    "pipeline6 = Pipeline(stages=[va3, rf])"
   ]
  },
  {
   "cell_type": "code",
   "execution_count": 83,
   "metadata": {
    "collapsed": false,
    "deletable": true,
    "editable": true
   },
   "outputs": [
    {
     "name": "stdout",
     "output_type": "stream",
     "text": [
      "+------------------+\n",
      "|      MSE for RF 3|\n",
      "+------------------+\n",
      "|25.941497749065732|\n",
      "+------------------+\n",
      "\n"
     ]
    }
   ],
   "source": [
    "RF_model3 = pipeline6.fit(trainingData)\n",
    "RF_model3.transform(trainingData).select('TripDuration', 'prediction')\n",
    "RF_model3.transform(trainingData).\\\n",
    "    select(fn.avg((fn.col('prediction') - fn.col('TripDuration'))**2).alias('MSE for RF 3')).\\\n",
    "    show()"
   ]
  },
  {
   "cell_type": "markdown",
   "metadata": {
    "deletable": true,
    "editable": true
   },
   "source": [
    "# Validation"
   ]
  },
  {
   "cell_type": "code",
   "execution_count": 84,
   "metadata": {
    "collapsed": false,
    "deletable": true,
    "editable": true
   },
   "outputs": [
    {
     "name": "stdout",
     "output_type": "stream",
     "text": [
      "+-----------------------+\n",
      "|MSE validation for LR 1|\n",
      "+-----------------------+\n",
      "|     1.1954747781057566|\n",
      "+-----------------------+\n",
      "\n",
      "+-----------------------+\n",
      "|MSE validation for LR 2|\n",
      "+-----------------------+\n",
      "|     16.518706279516582|\n",
      "+-----------------------+\n",
      "\n",
      "+-----------------------+\n",
      "|MSE validation for LR 3|\n",
      "+-----------------------+\n",
      "|       26.1091203324706|\n",
      "+-----------------------+\n",
      "\n",
      "+-----------------------+\n",
      "|MSE validation for RF 1|\n",
      "+-----------------------+\n",
      "|      4.511142012360113|\n",
      "+-----------------------+\n",
      "\n",
      "+-----------------------+\n",
      "|MSE validation for RF 2|\n",
      "+-----------------------+\n",
      "|     24.646183339794867|\n",
      "+-----------------------+\n",
      "\n",
      "+-----------------------+\n",
      "|MSE validation for RF 3|\n",
      "+-----------------------+\n",
      "|      25.67605687439053|\n",
      "+-----------------------+\n",
      "\n"
     ]
    }
   ],
   "source": [
    "linear_model1.transform(validation).\\\n",
    "    select(fn.avg((fn.col('prediction') - fn.col('TripDuration'))**2).alias('MSE validation for LR 1')).\\\n",
    "    show()\n",
    "\n",
    "linear_model2.transform(validation).\\\n",
    "    select(fn.avg((fn.col('prediction') - fn.col('TripDuration'))**2).alias('MSE validation for LR 2')).\\\n",
    "    show()\n",
    "    \n",
    "linear_model3.transform(validation).\\\n",
    "    select(fn.avg((fn.col('prediction') - fn.col('TripDuration'))**2).alias('MSE validation for LR 3')).\\\n",
    "    show()\n",
    "\n",
    "RF_model1.transform(validation).\\\n",
    "    select(fn.avg((fn.col('prediction') - fn.col('TripDuration'))**2).alias('MSE validation for RF 1')).\\\n",
    "    show()\n",
    "    \n",
    "RF_model2.transform(validation).\\\n",
    "    select(fn.avg((fn.col('prediction') - fn.col('TripDuration'))**2).alias('MSE validation for RF 2')).\\\n",
    "    show()\n",
    "    \n",
    "RF_model3.transform(validation).\\\n",
    "    select(fn.avg((fn.col('prediction') - fn.col('TripDuration'))**2).alias('MSE validation for RF 3')).\\\n",
    "    show()"
   ]
  },
  {
   "cell_type": "markdown",
   "metadata": {
    "deletable": true,
    "editable": true
   },
   "source": [
    "# Estimate of the generalization performance in MSE of the best model chosen "
   ]
  },
  {
   "cell_type": "code",
   "execution_count": 87,
   "metadata": {
    "collapsed": false,
    "deletable": true,
    "editable": true,
    "scrolled": true
   },
   "outputs": [
    {
     "name": "stdout",
     "output_type": "stream",
     "text": [
      "+------------------+\n",
      "|               MSE|\n",
      "+------------------+\n",
      "|1.1561986896563763|\n",
      "+------------------+\n",
      "\n"
     ]
    }
   ],
   "source": [
    "linear_model1.transform(testData).\\\n",
    "    select(fn.avg((fn.col('prediction') - fn.col('TripDuration'))**2).alias('MSE')).\\\n",
    "    show()"
   ]
  },
  {
   "cell_type": "code",
   "execution_count": 120,
   "metadata": {
    "collapsed": false,
    "deletable": true,
    "editable": true
   },
   "outputs": [
    {
     "name": "stdout",
     "output_type": "stream",
     "text": [
      "+-------------+------------------+------------------+------------------+------------------+-----------+------------+------------+-----+-----------+-------------+\n",
      "|trip_distance|  pickup_longitude|   pickup_latitude| dropoff_longitude|  dropoff_latitude|fare_amount|TripDuration|Day_of_WeekP|Phour|Day_indexed|Phour_indexed|\n",
      "+-------------+------------------+------------------+------------------+------------------+-----------+------------+------------+-----+-----------+-------------+\n",
      "|          2.5|   -73.99072265625|   40.749267578125|-73.96504974365234| 40.75496292114258|        9.5|         9.0|      Friday|    2|        0.0|         19.0|\n",
      "|          1.3| -73.9751968383789|  40.7823600769043|-73.96562194824219| 40.79207992553711|        6.5|         5.0|      Sunday|   19|        2.0|          0.0|\n",
      "|         1.47|-74.00397491455078| 40.72573852539063|-73.99896240234375| 40.74453353881836|        6.5|         6.0|      Sunday|   14|        2.0|          7.0|\n",
      "|          1.4|-73.97034454345702|40.752235412597656|-73.97855377197266| 40.73601531982422|        6.5|         5.0|   Wednesday|   21|        4.0|          3.0|\n",
      "|          1.2|-74.01358032226562|40.712833404541016|-74.01221466064453| 40.70368957519531|        6.5|         6.0|      Friday|   18|        0.0|          1.0|\n",
      "|         2.18| -73.9688491821289| 40.79890060424805|-73.98309326171875| 40.77484130859375|        9.0|        10.0|      Friday|   12|        0.0|          8.0|\n",
      "|         1.38|-73.97361755371094| 40.75085067749024|-73.99295043945312| 40.75796127319336|        7.5|         8.0|    Saturday|    8|        1.0|         14.0|\n",
      "|         2.88|-73.95384216308594| 40.77087020874024|-73.93489837646483| 40.74639892578125|       13.0|        14.0|     Tuesday|    8|        5.0|         14.0|\n",
      "|         2.02|-73.97897338867188|  40.7607307434082|-74.00437927246094|40.756736755371094|       11.0|        14.0|      Sunday|   19|        2.0|          0.0|\n",
      "|         1.42|-73.95417022705078| 40.78711318969727|-73.96320343017578| 40.76902389526367|       10.5|        14.0|    Thursday|   11|        3.0|         12.0|\n",
      "|          1.8|-73.97348022460938| 40.75021362304688|-73.99508666992188|40.744102478027344|       11.5|        16.0|   Wednesday|   18|        4.0|          1.0|\n",
      "|         2.84|-73.99774169921875|  40.7215576171875| -73.9916458129883| 40.68769836425781|       11.0|        12.0|      Sunday|    0|        2.0|         17.0|\n",
      "|         1.77|-73.94666290283203| 40.75349044799805|-73.94666290283203| 40.75349044799805|       10.5|        14.0|   Wednesday|   12|        4.0|          8.0|\n",
      "|         2.78|-73.99287414550781| 40.71523666381836|-73.96150970458984|  40.7174186706543|       11.0|        11.0|      Friday|    1|        0.0|         18.0|\n",
      "|         2.56|-73.99343872070312|  40.7332420349121|-73.97056579589844|40.761966705322266|       15.5|        23.0|   Wednesday|   13|        4.0|         11.0|\n",
      "|         1.15|-73.98703002929686|40.750919342041016|-73.97911071777342| 40.74052047729492|        6.5|         6.0|      Friday|    0|        0.0|         17.0|\n",
      "|         1.95|-74.00187683105469| 40.74592590332031|-73.98320770263672| 40.73331832885742|        9.5|        10.0|    Saturday|    9|        1.0|         13.0|\n",
      "|          4.0|-74.01073455810547| 40.70395278930664|-73.97370910644531| 40.67897415161133|       15.0|        17.0|     Tuesday|   20|        5.0|          2.0|\n",
      "|          1.2|-73.99199676513672|  40.7440299987793|-73.99378204345702| 40.75645065307617|        6.5|         6.0|    Saturday|   10|        1.0|         15.0|\n",
      "|         2.62|-73.97293853759766| 40.75596237182617| -74.0000457763672| 40.73052597045898|       13.5|        19.0|    Saturday|   23|        1.0|          9.0|\n",
      "+-------------+------------------+------------------+------------------+------------------+-----------+------------+------------+-----+-----------+-------------+\n",
      "only showing top 20 rows\n",
      "\n"
     ]
    }
   ],
   "source": [
    "td1.show()"
   ]
  },
  {
   "cell_type": "code",
   "execution_count": 154,
   "metadata": {
    "collapsed": true,
    "deletable": true,
    "editable": true
   },
   "outputs": [],
   "source": [
    "new_trip = spark.createDataFrame([\n",
    "    [8.2, 0, 0]], ['trip_distance','Phour_indexed','Day_indexed'])"
   ]
  },
  {
   "cell_type": "code",
   "execution_count": 155,
   "metadata": {
    "collapsed": false,
    "deletable": true,
    "editable": true
   },
   "outputs": [
    {
     "data": {
      "text/plain": [
       "[Row(trip_distance=8.2, Phour_indexed=0, Day_indexed=0, features=DenseVector([8.2, 0.0, 0.0]), prediction=31.41591349433579)]"
      ]
     },
     "execution_count": 155,
     "metadata": {},
     "output_type": "execute_result"
    }
   ],
   "source": [
    "linear_model2.transform(new_trip).collect()"
   ]
  }
 ],
 "metadata": {
  "anaconda-cloud": {},
  "kernelspec": {
   "display_name": "Python 2",
   "language": "python",
   "name": "python2"
  },
  "language_info": {
   "codemirror_mode": {
    "name": "ipython",
    "version": 2
   },
   "file_extension": ".py",
   "mimetype": "text/x-python",
   "name": "python",
   "nbconvert_exporter": "python",
   "pygments_lexer": "ipython2",
   "version": "2.7.11"
  }
 },
 "nbformat": 4,
 "nbformat_minor": 2
}
